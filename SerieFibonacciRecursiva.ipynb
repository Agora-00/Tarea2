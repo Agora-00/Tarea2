{
  "nbformat": 4,
  "nbformat_minor": 0,
  "metadata": {
    "colab": {
      "name": "SerieFibonacciRecursiva.ipynb",
      "provenance": []
    },
    "kernelspec": {
      "name": "python3",
      "display_name": "Python 3"
    },
    "language_info": {
      "name": "python"
    }
  },
  "cells": [
    {
      "cell_type": "code",
      "metadata": {
        "colab": {
          "base_uri": "https://localhost:8080/"
        },
        "id": "ejd2DTMsIz9v",
        "outputId": "b4597023-d441-44df-9c9b-fba3d0fcba72"
      },
      "source": [
        "def fibb (x):\n",
        "    if x < 4:\n",
        "        return x\n",
        "    else:\n",
        "        return fibb(x-1) + fibb(x -2)\n",
        "\n",
        "fibb(14)\n",
        "\n",
        "for y in range(14):\n",
        "    print(fibb(y))"
      ],
      "execution_count": 31,
      "outputs": [
        {
          "output_type": "stream",
          "name": "stdout",
          "text": [
            "0\n",
            "1\n",
            "2\n",
            "3\n",
            "5\n",
            "8\n",
            "13\n",
            "21\n",
            "34\n",
            "55\n",
            "89\n",
            "144\n",
            "233\n",
            "377\n"
          ]
        }
      ]
    }
  ]
}