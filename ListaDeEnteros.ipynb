{
  "nbformat": 4,
  "nbformat_minor": 0,
  "metadata": {
    "colab": {
      "name": "ListaDeEnteros.ipynb",
      "provenance": []
    },
    "kernelspec": {
      "name": "python3",
      "display_name": "Python 3"
    },
    "language_info": {
      "name": "python"
    }
  },
  "cells": [
    {
      "cell_type": "code",
      "metadata": {
        "colab": {
          "base_uri": "https://localhost:8080/"
        },
        "id": "oWFCxHtpPMwH",
        "outputId": "680f078d-e86b-4af6-aee1-38f4ff75e253"
      },
      "source": [
        "def suma_numeros (x):\n",
        "    if x == 0:\n",
        "        resultado=0\n",
        "    else:\n",
        "            sumatotal = x + suma_numeros (x-1)\n",
        "    return sumatotal\n",
        "print(sumaS(14))"
      ],
      "execution_count": 31,
      "outputs": [
        {
          "output_type": "stream",
          "name": "stdout",
          "text": [
            "105\n"
          ]
        }
      ]
    }
  ]
}