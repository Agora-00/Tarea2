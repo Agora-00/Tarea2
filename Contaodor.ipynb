{
  "nbformat": 4,
  "nbformat_minor": 0,
  "metadata": {
    "colab": {
      "name": "Contaodor.ipynb",
      "provenance": []
    },
    "kernelspec": {
      "name": "python3",
      "display_name": "Python 3"
    },
    "language_info": {
      "name": "python"
    }
  },
  "cells": [
    {
      "cell_type": "code",
      "metadata": {
        "id": "frDYX-_DHpQk"
      },
      "source": [
        "def count( n ):\n",
        "    if n == 0:\n",
        "        print(\"BOOOMM!!!\")\n",
        "    else:\n",
        "        print(n)\n",
        "        return count (n-1)"
      ],
      "execution_count": 7,
      "outputs": []
    },
    {
      "cell_type": "code",
      "metadata": {
        "colab": {
          "base_uri": "https://localhost:8080/"
        },
        "id": "yR34hc5hIe7n",
        "outputId": "000ed479-0cf4-4e08-fb53-a6f7a00ef442"
      },
      "source": [
        "count ( 14 )"
      ],
      "execution_count": 9,
      "outputs": [
        {
          "output_type": "stream",
          "name": "stdout",
          "text": [
            "14\n",
            "13\n",
            "12\n",
            "11\n",
            "10\n",
            "9\n",
            "8\n",
            "7\n",
            "6\n",
            "5\n",
            "4\n",
            "3\n",
            "2\n",
            "1\n",
            "BOOOMM!!!\n"
          ]
        }
      ]
    }
  ]
}