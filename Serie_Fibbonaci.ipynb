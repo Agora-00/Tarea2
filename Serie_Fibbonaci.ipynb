{
  "nbformat": 4,
  "nbformat_minor": 0,
  "metadata": {
    "colab": {
      "name": "Serie_Fibbonaci.ipynb",
      "provenance": []
    },
    "kernelspec": {
      "name": "python3",
      "display_name": "Python 3"
    },
    "language_info": {
      "name": "python"
    }
  },
  "cells": [
    {
      "cell_type": "code",
      "metadata": {
        "colab": {
          "base_uri": "https://localhost:8080/"
        },
        "id": "ncvhRUVAYovV",
        "outputId": "6bdaf57f-9fdd-4645-e820-9c05b5865c67"
      },
      "source": [
        "def fibb(start):\n",
        "    if start == 0:\n",
        "        return 0\n",
        "    elif start == 1:\n",
        "        return 1\n",
        "    return fibb(start -1)  +  fibb(start -2)\n",
        "\n",
        "print(\"serie finobbaci\".center(50,'-'))\n",
        "\n",
        "print(f\"{fibb(18)}\")"
      ],
      "execution_count": 25,
      "outputs": [
        {
          "output_type": "stream",
          "name": "stdout",
          "text": [
            "-----------------serie finobbaci------------------\n",
            "2584\n"
          ]
        }
      ]
    }
  ]
}