{
  "nbformat": 4,
  "nbformat_minor": 0,
  "metadata": {
    "colab": {
      "name": "Eliminar_Elemento_Medio.ipynb",
      "provenance": []
    },
    "kernelspec": {
      "name": "python3",
      "display_name": "Python 3"
    },
    "language_info": {
      "name": "python"
    }
  },
  "cells": [
    {
      "cell_type": "code",
      "metadata": {
        "colab": {
          "base_uri": "https://localhost:8080/"
        },
        "id": "X1NrLAq8MzaC",
        "outputId": "16bf52e3-a364-4c2f-c942-2c67d7bb66b4"
      },
      "source": [
        "def arrays(array):\n",
        "    ln = len(array)\n",
        "    if ln%2 == 0:\n",
        "        array.pop(ln//2)\n",
        "        return array\n",
        "\n",
        "print(\"eliminar el elemento medio de la lista\".center(10,'-'))\n",
        "\n",
        "print(f\"lista:{[10, 20, 30]}\")\n",
        "\n",
        "res = arrays([10, 20, 30])\n",
        "print(res)\n",
        "\n",
        "print(f\"si la lista es par: [1,2,3,4]\")\n",
        "\n",
        "res = arrays([1,2,3,4])\n",
        "print(res)"
      ],
      "execution_count": 5,
      "outputs": [
        {
          "output_type": "stream",
          "name": "stdout",
          "text": [
            "eliminar el elemento medio de la lista\n",
            "lista:[10, 20, 30]\n",
            "None\n",
            "si la lista es par: [1,2,3,4]\n",
            "[1, 2, 4]\n"
          ]
        }
      ]
    }
  ]
}